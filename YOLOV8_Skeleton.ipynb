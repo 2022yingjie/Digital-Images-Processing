{
  "nbformat": 4,
  "nbformat_minor": 0,
  "metadata": {
    "colab": {
      "provenance": [],
      "authorship_tag": "ABX9TyMm0rPJssmiBktsx9nyamjG",
      "include_colab_link": true
    },
    "kernelspec": {
      "name": "python3",
      "display_name": "Python 3"
    },
    "language_info": {
      "name": "python"
    }
  },
  "cells": [
    {
      "cell_type": "markdown",
      "metadata": {
        "id": "view-in-github",
        "colab_type": "text"
      },
      "source": [
        "<a href=\"https://colab.research.google.com/github/2022yingjie/Digital-Images-Processing/blob/main/YOLOV8_Skeleton.ipynb\" target=\"_parent\"><img src=\"https://colab.research.google.com/assets/colab-badge.svg\" alt=\"Open In Colab\"/></a>"
      ]
    },
    {
      "cell_type": "code",
      "execution_count": null,
      "metadata": {
        "id": "Rz3tvTIDnYBt"
      },
      "outputs": [],
      "source": [
        "# YOLOV8 Train Human Skeleton keypoints detection model by using YOLOV8\n",
        "\n",
        "## Transfer .json files from Labelme to YOLO format, the related function is shown as following:\n",
        "\"\"\"\n",
        "Transfer labelme data format into YOLO data format\n",
        "\"\"\"\n",
        "import os\n",
        "import json\n",
        "import numpy as np\n",
        "\n",
        "\n",
        "\n",
        "\n",
        "# 框的类别\n",
        "bbox_class = {\n",
        "    'box':0\n",
        "}\n",
        "# 关节点的类\n",
        "keypoint_class = ['1','2','3','4','5','6','7','8','9','10','11','12','13','14','15','16','17','18','19']\n",
        "def process_json_YOLO(labelme,coco_path):\n",
        "    img_width = labelme['imageWidth']\n",
        "    img_height = labelme['imageHeight']\n",
        "    with open(coco_path, 'w', encoding='utf-8') as f:\n",
        "        for each_ann in labelme['shapes']: # 遍历每个标注\n",
        "            if each_ann['label'] == 'box': # 如果遇到框\n",
        "\n",
        "                yolo_str = ''\n",
        "\n",
        "                ## 框的信息\n",
        "                # 框的类别 ID\n",
        "                bbox_class_id = bbox_class[each_ann['label']]\n",
        "                yolo_str += '{} '.format(bbox_class_id)\n",
        "                # 左上角和右下角的 XY 像素坐标\n",
        "                bbox_top_left_x = int(min(each_ann['points'][0][0], each_ann['points'][1][0]))\n",
        "                bbox_bottom_right_x = int(max(each_ann['points'][0][0], each_ann['points'][1][0]))\n",
        "                bbox_top_left_y = int(min(each_ann['points'][0][1], each_ann['points'][1][1]))\n",
        "                bbox_bottom_right_y = int(max(each_ann['points'][0][1], each_ann['points'][1][1]))\n",
        "                # 框中心点的 XY 像素坐标\n",
        "                bbox_center_x = int((bbox_top_left_x + bbox_bottom_right_x) / 2)\n",
        "                bbox_center_y = int((bbox_top_left_y + bbox_bottom_right_y) / 2)\n",
        "                # 框宽度\n",
        "                bbox_width = bbox_bottom_right_x - bbox_top_left_x\n",
        "                # 框高度\n",
        "                bbox_height = bbox_bottom_right_y - bbox_top_left_y\n",
        "                # 框中心点归一化坐标\n",
        "                bbox_center_x_norm = bbox_center_x / img_width\n",
        "                bbox_center_y_norm = bbox_center_y / img_height\n",
        "                # 框归一化宽度\n",
        "                bbox_width_norm = bbox_width / img_width\n",
        "                # 框归一化高度\n",
        "                bbox_height_norm = bbox_height / img_height\n",
        "\n",
        "                yolo_str += '{:.5f} {:.5f} {:.5f} {:.5f} '.format(bbox_center_x_norm, bbox_center_y_norm, bbox_width_norm, bbox_height_norm)\n",
        "\n",
        "                ## 找到该框中所有关键点，存在字典 bbox_keypoints_dict 中\n",
        "                bbox_keypoints_dict = {}\n",
        "                for each_ann in labelme['shapes']: # 遍历所有标注\n",
        "                    if each_ann['label'] in keypoint_class: # 筛选出关键点标注\n",
        "                        # 关键点XY坐标、类别\n",
        "                        x = int(each_ann['points'][0][0])\n",
        "                        y = int(each_ann['points'][0][1])\n",
        "                        label = each_ann['label']\n",
        "                        if (x>bbox_top_left_x) & (x<bbox_bottom_right_x) & (y<bbox_bottom_right_y) & (y>bbox_top_left_y): # 筛选出在该个体框中的关键点\n",
        "                            bbox_keypoints_dict[label] = [x, y]\n",
        "                #print(bbox_keypoints_dict)\n",
        "                ## 把关键点按顺序排好\n",
        "                for each_class in keypoint_class: # 遍历每一类关键点\n",
        "                    if each_class in bbox_keypoints_dict:\n",
        "                        keypoint_x_norm = bbox_keypoints_dict[each_class][0] / img_width\n",
        "                        keypoint_y_norm = bbox_keypoints_dict[each_class][1] / img_height\n",
        "                        yolo_str += '{:.5f} {:.5f} {} '.format(keypoint_x_norm, keypoint_y_norm, 2) # 2-可见不遮挡 1-遮挡 0-没有点\n",
        "                    else: # 不存在的点，一律为0\n",
        "                        yolo_str += '0 0 0 '.format(keypoint_x_norm, keypoint_y_norm, 0)\n",
        "\n",
        "                print(yolo_str)\n",
        "                # 写入 txt 文件中\n",
        "                f.write(yolo_str + '\\n')\n",
        "\n",
        "    print('转换完成')\n",
        "\n",
        "\n",
        "\n",
        "def Convert_Labelme2YOLO(labelme,coco_path):\n",
        "    coco = process_json_YOLO(labelme=labelme,coco_path=coco_path)\n",
        "    return coco\n",
        "\n",
        "\n",
        "root_path = \"Z:\\Whole Body DXA IMAGE\"\n",
        "NameList = os.listdir(root_path)\n",
        "\n",
        "\n",
        "for idx in range(100,200):\n",
        "    #print(name)\n",
        "    json_name = os.path.join(root_path,str(idx),'skeleton.json')\n",
        "    coco_path = os.path.join(root_path, str(idx), 'output_yolo.txt')\n",
        "    with open(json_name, 'r', encoding='utf-8') as f:\n",
        "        labelme = json.load(f)\n",
        "        # print(labelme.keys())\n",
        "        coco = Convert_Labelme2YOLO(labelme,coco_path)\n",
        "\n",
        "\n",
        "        # with open(coco_path, 'w') as f:\n",
        "        #     json.dump(coco,f,indent=2)\n"
      ]
    },
    {
      "cell_type": "code",
      "source": [
        "# How to Train our dataset\n",
        "\n",
        "# Defined Our own .yaml configuration document\n",
        "\n",
        "###################################Skeleton.yaml######################################\n",
        "# 数据集在 datasets 目录下的文件夹路径\n",
        "path: Z:\\Semi_Keypoints_Detection  #Z:\\Semi_Keypoints_Detection # Z:\\skeleton_xrays\n",
        "\n",
        "# 训练集、验证集、测试集相对于 path 的路径（一般不用区分验证集和测试集，统称测试集）\n",
        "train: images/train\n",
        "val: images/val\n",
        "test: images/val\n",
        "\n",
        "# number of classes\n",
        "nc: 1\n",
        "\n",
        "# 3 种关键点，每个关键点有 X Y 是否可见 三个参数\n",
        "# 是否可见：2-可见不遮挡 1-遮挡 0-没有点\n",
        "kpt_shape: [19, 3] # number of points and its dimension\n",
        "\n",
        "# 框的类别（对于关键点检测，只有一类）\n",
        "names:\n",
        "  0: skeleton\n",
        "\n",
        "\n",
        "\n",
        "###################################Training######################################\n",
        "\"\"\"\n",
        "Using YOLO API\n",
        "\"\"\"\n",
        "\n",
        "# import package\n",
        "from ultralytics import YOLO\n",
        "\n",
        "# three approaches to load model\n",
        "model = YOLO('Skeleton.yaml')# 加载配置文件，从头开始训练\n",
        "model = YOLO('yolov8s-pose.pt')# 调用预训练权重\n",
        "model = YOLO('Skeleton.yaml').load('yolov8s-pose.pt')# 加载配置文件，用自己设定的类但同时调用预训练权重\n",
        "\n",
        "# Train the model,many parameters, go to check the web  https://docs.ultralytics.com/modes/\n",
        "model.train(data='coco128.yaml', epochs=100, imgsz=960,batch=12,project='Project_Name', name='Name of current training',model='yolov8s-pose.pt',device=0,pretrained=True)\n",
        "\n",
        "# Validate the model\n",
        "model.val()\n",
        "\n",
        "# Predict the model\n",
        "model.predict()\n",
        "\n",
        "\n",
        "###### Command of YOLOV8\n",
        "# 1. Train\n",
        "# yolo pose train data=Skeleton.yaml model=yolov8s-pose.pt pretrained=True project=XR_Skeleton name=xrays_skeleton epochs=300 imgsz=960 batch=12 device=0\n",
        "\n",
        "# 2. Val\n",
        "# yolo detect val model=yolov8n.pt  # val official model\n",
        "# yolo detect val model=path/to/best.pt  # val custom model\n",
        "\n",
        "# 3. Predict\n",
        "# Go to check the web https://docs.ultralytics.com/modes/predict/#inference-arguments"
      ],
      "metadata": {
        "id": "9eonX25iomEX"
      },
      "execution_count": null,
      "outputs": []
    },
    {
      "cell_type": "code",
      "source": [
        "!pip install ultralytics"
      ],
      "metadata": {
        "colab": {
          "base_uri": "https://localhost:8080/"
        },
        "id": "6Q35qtXFtPqM",
        "outputId": "c308b63b-f9be-4fbb-f6d7-4c7e94b2742c"
      },
      "execution_count": 2,
      "outputs": [
        {
          "output_type": "stream",
          "name": "stdout",
          "text": [
            "Collecting ultralytics\n",
            "  Downloading ultralytics-8.0.221-py3-none-any.whl (646 kB)\n",
            "\u001b[?25l     \u001b[90m━━━━━━━━━━━━━━━━━━━━━━━━━━━━━━━━━━━━━━━━\u001b[0m \u001b[32m0.0/646.6 kB\u001b[0m \u001b[31m?\u001b[0m eta \u001b[36m-:--:--\u001b[0m\r\u001b[2K     \u001b[91m━━━━━━━━━━━━\u001b[0m\u001b[91m╸\u001b[0m\u001b[90m━━━━━━━━━━━━━━━━━━━━━━━━━━━\u001b[0m \u001b[32m204.8/646.6 kB\u001b[0m \u001b[31m5.9 MB/s\u001b[0m eta \u001b[36m0:00:01\u001b[0m\r\u001b[2K     \u001b[91m━━━━━━━━━━━━━━━━━━━━━━━━━━━━━━━━━━\u001b[0m\u001b[91m╸\u001b[0m\u001b[90m━━━━━\u001b[0m \u001b[32m563.2/646.6 kB\u001b[0m \u001b[31m8.1 MB/s\u001b[0m eta \u001b[36m0:00:01\u001b[0m\r\u001b[2K     \u001b[90m━━━━━━━━━━━━━━━━━━━━━━━━━━━━━━━━━━━━━━━━\u001b[0m \u001b[32m646.6/646.6 kB\u001b[0m \u001b[31m7.3 MB/s\u001b[0m eta \u001b[36m0:00:00\u001b[0m\n",
            "\u001b[?25hRequirement already satisfied: matplotlib>=3.3.0 in /usr/local/lib/python3.10/dist-packages (from ultralytics) (3.7.1)\n",
            "Requirement already satisfied: numpy>=1.22.2 in /usr/local/lib/python3.10/dist-packages (from ultralytics) (1.23.5)\n",
            "Requirement already satisfied: opencv-python>=4.6.0 in /usr/local/lib/python3.10/dist-packages (from ultralytics) (4.8.0.76)\n",
            "Requirement already satisfied: pillow>=7.1.2 in /usr/local/lib/python3.10/dist-packages (from ultralytics) (9.4.0)\n",
            "Requirement already satisfied: pyyaml>=5.3.1 in /usr/local/lib/python3.10/dist-packages (from ultralytics) (6.0.1)\n",
            "Requirement already satisfied: requests>=2.23.0 in /usr/local/lib/python3.10/dist-packages (from ultralytics) (2.31.0)\n",
            "Requirement already satisfied: scipy>=1.4.1 in /usr/local/lib/python3.10/dist-packages (from ultralytics) (1.11.4)\n",
            "Requirement already satisfied: torch>=1.8.0 in /usr/local/lib/python3.10/dist-packages (from ultralytics) (2.1.0+cu118)\n",
            "Requirement already satisfied: torchvision>=0.9.0 in /usr/local/lib/python3.10/dist-packages (from ultralytics) (0.16.0+cu118)\n",
            "Requirement already satisfied: tqdm>=4.64.0 in /usr/local/lib/python3.10/dist-packages (from ultralytics) (4.66.1)\n",
            "Requirement already satisfied: pandas>=1.1.4 in /usr/local/lib/python3.10/dist-packages (from ultralytics) (1.5.3)\n",
            "Requirement already satisfied: seaborn>=0.11.0 in /usr/local/lib/python3.10/dist-packages (from ultralytics) (0.12.2)\n",
            "Requirement already satisfied: psutil in /usr/local/lib/python3.10/dist-packages (from ultralytics) (5.9.5)\n",
            "Requirement already satisfied: py-cpuinfo in /usr/local/lib/python3.10/dist-packages (from ultralytics) (9.0.0)\n",
            "Collecting thop>=0.1.1 (from ultralytics)\n",
            "  Downloading thop-0.1.1.post2209072238-py3-none-any.whl (15 kB)\n",
            "Requirement already satisfied: contourpy>=1.0.1 in /usr/local/lib/python3.10/dist-packages (from matplotlib>=3.3.0->ultralytics) (1.2.0)\n",
            "Requirement already satisfied: cycler>=0.10 in /usr/local/lib/python3.10/dist-packages (from matplotlib>=3.3.0->ultralytics) (0.12.1)\n",
            "Requirement already satisfied: fonttools>=4.22.0 in /usr/local/lib/python3.10/dist-packages (from matplotlib>=3.3.0->ultralytics) (4.45.1)\n",
            "Requirement already satisfied: kiwisolver>=1.0.1 in /usr/local/lib/python3.10/dist-packages (from matplotlib>=3.3.0->ultralytics) (1.4.5)\n",
            "Requirement already satisfied: packaging>=20.0 in /usr/local/lib/python3.10/dist-packages (from matplotlib>=3.3.0->ultralytics) (23.2)\n",
            "Requirement already satisfied: pyparsing>=2.3.1 in /usr/local/lib/python3.10/dist-packages (from matplotlib>=3.3.0->ultralytics) (3.1.1)\n",
            "Requirement already satisfied: python-dateutil>=2.7 in /usr/local/lib/python3.10/dist-packages (from matplotlib>=3.3.0->ultralytics) (2.8.2)\n",
            "Requirement already satisfied: pytz>=2020.1 in /usr/local/lib/python3.10/dist-packages (from pandas>=1.1.4->ultralytics) (2023.3.post1)\n",
            "Requirement already satisfied: charset-normalizer<4,>=2 in /usr/local/lib/python3.10/dist-packages (from requests>=2.23.0->ultralytics) (3.3.2)\n",
            "Requirement already satisfied: idna<4,>=2.5 in /usr/local/lib/python3.10/dist-packages (from requests>=2.23.0->ultralytics) (3.6)\n",
            "Requirement already satisfied: urllib3<3,>=1.21.1 in /usr/local/lib/python3.10/dist-packages (from requests>=2.23.0->ultralytics) (2.0.7)\n",
            "Requirement already satisfied: certifi>=2017.4.17 in /usr/local/lib/python3.10/dist-packages (from requests>=2.23.0->ultralytics) (2023.11.17)\n",
            "Requirement already satisfied: filelock in /usr/local/lib/python3.10/dist-packages (from torch>=1.8.0->ultralytics) (3.13.1)\n",
            "Requirement already satisfied: typing-extensions in /usr/local/lib/python3.10/dist-packages (from torch>=1.8.0->ultralytics) (4.5.0)\n",
            "Requirement already satisfied: sympy in /usr/local/lib/python3.10/dist-packages (from torch>=1.8.0->ultralytics) (1.12)\n",
            "Requirement already satisfied: networkx in /usr/local/lib/python3.10/dist-packages (from torch>=1.8.0->ultralytics) (3.2.1)\n",
            "Requirement already satisfied: jinja2 in /usr/local/lib/python3.10/dist-packages (from torch>=1.8.0->ultralytics) (3.1.2)\n",
            "Requirement already satisfied: fsspec in /usr/local/lib/python3.10/dist-packages (from torch>=1.8.0->ultralytics) (2023.6.0)\n",
            "Requirement already satisfied: triton==2.1.0 in /usr/local/lib/python3.10/dist-packages (from torch>=1.8.0->ultralytics) (2.1.0)\n",
            "Requirement already satisfied: six>=1.5 in /usr/local/lib/python3.10/dist-packages (from python-dateutil>=2.7->matplotlib>=3.3.0->ultralytics) (1.16.0)\n",
            "Requirement already satisfied: MarkupSafe>=2.0 in /usr/local/lib/python3.10/dist-packages (from jinja2->torch>=1.8.0->ultralytics) (2.1.3)\n",
            "Requirement already satisfied: mpmath>=0.19 in /usr/local/lib/python3.10/dist-packages (from sympy->torch>=1.8.0->ultralytics) (1.3.0)\n",
            "Installing collected packages: thop, ultralytics\n",
            "Successfully installed thop-0.1.1.post2209072238 ultralytics-8.0.221\n"
          ]
        }
      ]
    },
    {
      "cell_type": "code",
      "source": [
        "# Using trained model to show the detection results of human skeleton x-ray images\n",
        "from ultralytics import YOLO\n",
        "import os\n",
        "import matplotlib.pyplot as plt\n",
        "from PIL import Image\n",
        "os.environ[\"KMP_DUPLICATE_LIB_OK\"]=\"TRUE\"\n",
        "\n",
        "model = YOLO(\"/content/best.pt\")\n",
        "results = model(\"/content/skeleton.png\")\n",
        "for r in results:\n",
        "  im_array = r.plot()\n",
        "  im = Image.fromarray(im_array[...,::-1])\n",
        "  # im.show()\n",
        "  plt.figure()\n",
        "  plt.imshow(im)\n",
        "  plt.show()"
      ],
      "metadata": {
        "colab": {
          "base_uri": "https://localhost:8080/",
          "height": 490
        },
        "id": "MyNcBhFspHa2",
        "outputId": "1b15dd23-a987-4c0d-9c5a-51bde4bbae9c"
      },
      "execution_count": 5,
      "outputs": [
        {
          "output_type": "stream",
          "name": "stdout",
          "text": [
            "\n",
            "image 1/1 /content/skeleton.png: 960x960 1 skeleton, 3106.9ms\n",
            "Speed: 14.6ms preprocess, 3106.9ms inference, 2.1ms postprocess per image at shape (1, 3, 960, 960)\n"
          ]
        },
        {
          "output_type": "display_data",
          "data": {
            "text/plain": [
              "<Figure size 640x480 with 1 Axes>"
            ],
            "image/png": "[encoded data removed]"
          },
          "metadata": {}
        }
      ]
    }
  ]
}